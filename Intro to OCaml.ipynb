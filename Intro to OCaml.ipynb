{
 "cells": [
  {
   "cell_type": "markdown",
   "id": "b357063d",
   "metadata": {},
   "source": [
    "## Generic Expressions"
   ]
  },
  {
   "cell_type": "code",
   "execution_count": 1,
   "id": "5aeaaef3",
   "metadata": {},
   "outputs": [
    {
     "data": {
      "text/plain": [
       "- : int = 12\n"
      ]
     },
     "execution_count": 1,
     "metadata": {},
     "output_type": "execute_result"
    }
   ],
   "source": [
    "12"
   ]
  },
  {
   "cell_type": "code",
   "execution_count": 2,
   "id": "05b69f4f",
   "metadata": {},
   "outputs": [
    {
     "data": {
      "text/plain": [
       "- : int = 20\n"
      ]
     },
     "execution_count": 2,
     "metadata": {},
     "output_type": "execute_result"
    }
   ],
   "source": [
    "20"
   ]
  },
  {
   "cell_type": "code",
   "execution_count": 9,
   "id": "ec06d322",
   "metadata": {},
   "outputs": [
    {
     "data": {
      "text/plain": [
       "- : string = \"Hello\"\n"
      ]
     },
     "execution_count": 9,
     "metadata": {},
     "output_type": "execute_result"
    }
   ],
   "source": [
    "\"Hello\""
   ]
  },
  {
   "cell_type": "code",
   "execution_count": 10,
   "id": "a1b07b7c",
   "metadata": {},
   "outputs": [
    {
     "data": {
      "text/plain": [
       "- : int = 50\n"
      ]
     },
     "execution_count": 10,
     "metadata": {},
     "output_type": "execute_result"
    }
   ],
   "source": [
    "20 + 30;;"
   ]
  },
  {
   "cell_type": "markdown",
   "id": "4994670b",
   "metadata": {},
   "source": [
    "**Inference**\n",
    "- All the Expression written in OCaml are by default evaluated to constants.\n",
    "- Thus once each of the above steps has parsed successfully it doesnt hold the reference to the variable but only the byte code in memory which holds the value of the assigned expressions"
   ]
  },
  {
   "cell_type": "markdown",
   "id": "12d1cc99",
   "metadata": {},
   "source": [
    "## Annotations (Type Casting)\n",
    "\n",
    "(`Expression` : `Datatype`)"
   ]
  },
  {
   "cell_type": "code",
   "execution_count": 11,
   "id": "e3d06c83",
   "metadata": {},
   "outputs": [
    {
     "data": {
      "text/plain": [
       "- : float = 30.\n"
      ]
     },
     "execution_count": 11,
     "metadata": {},
     "output_type": "execute_result"
    }
   ],
   "source": [
    "(30. : float);;"
   ]
  },
  {
   "cell_type": "code",
   "execution_count": 12,
   "id": "313c9198",
   "metadata": {},
   "outputs": [
    {
     "data": {
      "text/plain": [
       "- : int = 1730\n"
      ]
     },
     "execution_count": 12,
     "metadata": {},
     "output_type": "execute_result"
    }
   ],
   "source": [
    "(1730 : int);;"
   ]
  },
  {
   "cell_type": "markdown",
   "id": "7484d978",
   "metadata": {},
   "source": [
    "**Inference**\n",
    "- Each of the above expressions is read from right to left.\n",
    "- Thus any given value of given datatype is assigned to an expression reference \"-\""
   ]
  },
  {
   "cell_type": "markdown",
   "id": "f2f786d3",
   "metadata": {},
   "source": [
    "## Conditionals"
   ]
  },
  {
   "cell_type": "code",
   "execution_count": 13,
   "id": "28e41219",
   "metadata": {},
   "outputs": [
    {
     "data": {
      "text/plain": [
       "- : string = \"Hey 30 is greater than 20!!!\\nThank god you are not dumb\"\n"
      ]
     },
     "execution_count": 13,
     "metadata": {},
     "output_type": "execute_result"
    }
   ],
   "source": [
    "if 30 > 20 then\n",
    "\"Hey 30 is greater than 20!!!\n",
    "Thank god you are not dumb\"\n",
    "\n",
    "else\n",
    "\"Uhhh what now .... Uhhuuhhh. I am starting to forget that I went to school!!\";;"
   ]
  },
  {
   "cell_type": "markdown",
   "id": "5bb6ee3a",
   "metadata": {},
   "source": [
    "**Important**\n",
    "- All strings in OCaml are ordered lexically\n",
    "- Integers in OCaml arent considered to be overloaded as boolean values"
   ]
  },
  {
   "cell_type": "markdown",
   "id": "7fc7da6b",
   "metadata": {},
   "source": [
    "## Let Definitions\n",
    "\n",
    "- They provide identifiers to value expressions to reference values from memory instead of referencing the byte code itself"
   ]
  },
  {
   "cell_type": "code",
   "execution_count": 14,
   "id": "ce3e5a44",
   "metadata": {},
   "outputs": [
    {
     "data": {
      "text/plain": [
       "val x : int = 1730\n"
      ]
     },
     "execution_count": 14,
     "metadata": {},
     "output_type": "execute_result"
    }
   ],
   "source": [
    "let x = 1730;;"
   ]
  },
  {
   "cell_type": "markdown",
   "id": "f1fe8c09",
   "metadata": {},
   "source": [
    "**Annotations** can be applied alongside Let Definitions to type cast expressions to specific datatypes"
   ]
  },
  {
   "cell_type": "code",
   "execution_count": 15,
   "id": "2d21b900",
   "metadata": {},
   "outputs": [
    {
     "data": {
      "text/plain": [
       "val x : int = 1730\n"
      ]
     },
     "execution_count": 15,
     "metadata": {},
     "output_type": "execute_result"
    }
   ],
   "source": [
    "let x : int = 1730;;"
   ]
  },
  {
   "cell_type": "markdown",
   "id": "1620d1f6",
   "metadata": {},
   "source": [
    "## Let Expressions\n",
    "\n",
    "- They provide functionality to update the values of let definitions on the fly (dynamically).\n",
    "- They work by providing substitutions into let definitions within a limited scope level."
   ]
  },
  {
   "cell_type": "code",
   "execution_count": 16,
   "id": "ee65cad4",
   "metadata": {},
   "outputs": [
    {
     "data": {
      "text/plain": [
       "- : int = 10\n"
      ]
     },
     "execution_count": 16,
     "metadata": {},
     "output_type": "execute_result"
    }
   ],
   "source": [
    "let a = 10 in a;;"
   ]
  },
  {
   "cell_type": "markdown",
   "id": "e9771d10",
   "metadata": {},
   "source": [
    "**Inference**\n",
    "- By the above syntax we see that we are already referencing a while providing it a dynamic value.\n",
    "- Thus OCaml completes the execution of the Expression thus only referencing the location of the value held by the expression and not the identifier."
   ]
  },
  {
   "cell_type": "markdown",
   "id": "93edc7f7",
   "metadata": {},
   "source": [
    "## Scope of Expressions"
   ]
  },
  {
   "cell_type": "code",
   "execution_count": 17,
   "id": "6f41a8da",
   "metadata": {},
   "outputs": [
    {
     "data": {
      "text/plain": [
       "- : int = 11\n"
      ]
     },
     "execution_count": 17,
     "metadata": {},
     "output_type": "execute_result"
    }
   ],
   "source": [
    "let x = 5 in (let y = 6 in x + y);;"
   ]
  },
  {
   "cell_type": "code",
   "execution_count": 18,
   "id": "a93eb76b",
   "metadata": {},
   "outputs": [
    {
     "data": {
      "text/plain": [
       "- : int = 1730\n"
      ]
     },
     "execution_count": 18,
     "metadata": {},
     "output_type": "execute_result"
    }
   ],
   "source": [
    "x;;"
   ]
  },
  {
   "cell_type": "markdown",
   "id": "050f08f3",
   "metadata": {},
   "source": [
    "**Inference**\n",
    "- The value held by let definition x is thus only referenced in the expression above.\n",
    "- On rereferencing the identifier we access the global value of x due to its modification having limited scope."
   ]
  },
  {
   "cell_type": "code",
   "execution_count": 19,
   "id": "e69e6c74",
   "metadata": {},
   "outputs": [
    {
     "data": {
      "text/plain": [
       "val a : int = 10\n"
      ]
     },
     "execution_count": 19,
     "metadata": {},
     "output_type": "execute_result"
    },
    {
     "data": {
      "text/plain": [
       "val a : int = 20\n"
      ]
     },
     "execution_count": 19,
     "metadata": {},
     "output_type": "execute_result"
    }
   ],
   "source": [
    "let a = 10;;\n",
    "let a = 20;;"
   ]
  },
  {
   "cell_type": "code",
   "execution_count": 20,
   "id": "cf2bbf6e",
   "metadata": {},
   "outputs": [
    {
     "data": {
      "text/plain": [
       "- : int = 20\n"
      ]
     },
     "execution_count": 20,
     "metadata": {},
     "output_type": "execute_result"
    }
   ],
   "source": [
    "a;;"
   ]
  },
  {
   "cell_type": "markdown",
   "id": "588ef271",
   "metadata": {},
   "source": [
    "**Inference**\n",
    "- Thus continous declaration of let definitions also includes a scope for each definition being initialised.\n",
    "- Once a = 10 is declared, on declaring a = 20 we inherently use\n",
    "    - let a = 20 in (let a = 10);;"
   ]
  },
  {
   "cell_type": "markdown",
   "id": "88669568",
   "metadata": {},
   "source": [
    "## Anonymous Functions"
   ]
  },
  {
   "cell_type": "code",
   "execution_count": 21,
   "id": "ded548d2",
   "metadata": {},
   "outputs": [
    {
     "data": {
      "text/plain": [
       "- : int -> int = <fun>\n"
      ]
     },
     "execution_count": 21,
     "metadata": {},
     "output_type": "execute_result"
    }
   ],
   "source": [
    "fun x -> x + 1;;"
   ]
  },
  {
   "cell_type": "markdown",
   "id": "d36c7995",
   "metadata": {},
   "source": [
    "**Inference**\n",
    "- Like expressions unlike let definitions, since there is no identifier assigned to the function (anonymous function) we get a `-` on the LHS.\n",
    "- It then indicates the input data type and the return data type.\n",
    "- Finally `<data>` anything in angle backets in OCaml evaluates to an undescribable variable, value, datatype.\n",
    "\n",
    "**Important**\n",
    "- Here fun is in angle brackets as it has been executed by the compiler and converted byte code. Thus is doesnt have a high level implementation of the function for display `(like generic expressions)`."
   ]
  },
  {
   "cell_type": "code",
   "execution_count": 22,
   "id": "4e6da631",
   "metadata": {},
   "outputs": [
    {
     "data": {
      "text/plain": [
       "- : int -> int = <fun>\n"
      ]
     },
     "execution_count": 22,
     "metadata": {},
     "output_type": "execute_result"
    }
   ],
   "source": [
    "(fun x -> x + 1);;"
   ]
  },
  {
   "cell_type": "markdown",
   "id": "4cd7af6f",
   "metadata": {},
   "source": [
    "**Important**\n",
    "- Parenthesis can be applied to enclose an anonymous function in any given scope to execute the anonymous function appropriately."
   ]
  },
  {
   "cell_type": "markdown",
   "id": "f47ef404",
   "metadata": {},
   "source": [
    "## Call by Value in Anonymous Functions\n",
    "\n",
    "- Any parameter of the function is directly passed to the function by placing it next the to the identifer / definition of the function"
   ]
  },
  {
   "cell_type": "code",
   "execution_count": 23,
   "id": "a52c92da",
   "metadata": {},
   "outputs": [
    {
     "data": {
      "text/plain": [
       "- : int = 1730\n"
      ]
     },
     "execution_count": 23,
     "metadata": {},
     "output_type": "execute_result"
    }
   ],
   "source": [
    "(fun x -> x + 1) 1729;;"
   ]
  },
  {
   "cell_type": "markdown",
   "id": "05f3656c",
   "metadata": {},
   "source": [
    "**Multiple Arguments**"
   ]
  },
  {
   "cell_type": "code",
   "execution_count": 24,
   "id": "60d79afa",
   "metadata": {},
   "outputs": [
    {
     "data": {
      "text/plain": [
       "- : float -> float -> float = <fun>\n"
      ]
     },
     "execution_count": 24,
     "metadata": {},
     "output_type": "execute_result"
    }
   ],
   "source": [
    "(fun x y -> x +. y);;"
   ]
  },
  {
   "cell_type": "markdown",
   "id": "66532854",
   "metadata": {},
   "source": [
    "**Inference**\n",
    "- The OCaml interpretter again utilises scope of expressions.\n",
    "- Thus it first accesses the first parameter and its type and so on."
   ]
  },
  {
   "cell_type": "code",
   "execution_count": 25,
   "id": "065fcd12",
   "metadata": {},
   "outputs": [
    {
     "data": {
      "text/plain": [
       "- : float = 1730.\n"
      ]
     },
     "execution_count": 25,
     "metadata": {},
     "output_type": "execute_result"
    }
   ],
   "source": [
    "(fun x y -> x +. y) 1700. 30.;;"
   ]
  },
  {
   "cell_type": "markdown",
   "id": "e487b09c",
   "metadata": {},
   "source": [
    "## Examples of Function Application"
   ]
  },
  {
   "cell_type": "code",
   "execution_count": 26,
   "id": "32b5f2fd",
   "metadata": {},
   "outputs": [
    {
     "data": {
      "text/plain": [
       "- : int = 511\n"
      ]
     },
     "execution_count": 26,
     "metadata": {},
     "output_type": "execute_result"
    }
   ],
   "source": [
    "(fun x -> x + 1) (17 * 30);;"
   ]
  },
  {
   "cell_type": "code",
   "execution_count": 27,
   "id": "524da451",
   "metadata": {},
   "outputs": [
    {
     "data": {
      "text/plain": [
       "- : int = 53\n"
      ]
     },
     "execution_count": 27,
     "metadata": {},
     "output_type": "execute_result"
    }
   ],
   "source": [
    "(fun x y -> (x * 5) + y / 3) (14 - 4) (7 + 3);;"
   ]
  },
  {
   "cell_type": "markdown",
   "id": "16dc6560",
   "metadata": {},
   "source": [
    "## Working with Named Functions\n",
    "\n",
    "- Named Functions are similar to Let Definition and Let Expressions.\n",
    "- Similar Syntax is used on the LHS to apply an identifier to a function to name the function."
   ]
  },
  {
   "cell_type": "code",
   "execution_count": 28,
   "id": "295d2179",
   "metadata": {},
   "outputs": [
    {
     "data": {
      "text/plain": [
       "val inc : int -> int = <fun>\n"
      ]
     },
     "execution_count": 28,
     "metadata": {},
     "output_type": "execute_result"
    }
   ],
   "source": [
    "let inc = (fun x -> x + 1);;"
   ]
  },
  {
   "cell_type": "markdown",
   "id": "257b39c1",
   "metadata": {},
   "source": [
    "**Inference**\n",
    "- Similar to Let Definitions, the function is defined on the LHS using identifier.\n",
    "- This is followed by the I/O datatypes and implementation of the function if available at a high level."
   ]
  },
  {
   "cell_type": "code",
   "execution_count": 29,
   "id": "3503eded",
   "metadata": {},
   "outputs": [
    {
     "data": {
      "text/plain": [
       "- : int = 11\n"
      ]
     },
     "execution_count": 29,
     "metadata": {},
     "output_type": "execute_result"
    }
   ],
   "source": [
    "inc(10);;"
   ]
  },
  {
   "cell_type": "markdown",
   "id": "94121139",
   "metadata": {},
   "source": [
    "**Inference**\n",
    "- For unary functions the function can be called in a similar manner to anyother programming language"
   ]
  },
  {
   "cell_type": "code",
   "execution_count": 30,
   "id": "3d97cd99",
   "metadata": {},
   "outputs": [
    {
     "data": {
      "text/plain": [
       "val add : int -> int -> int = <fun>\n"
      ]
     },
     "execution_count": 30,
     "metadata": {},
     "output_type": "execute_result"
    },
    {
     "data": {
      "text/plain": [
       "- : int = 11\n"
      ]
     },
     "execution_count": 30,
     "metadata": {},
     "output_type": "execute_result"
    }
   ],
   "source": [
    "let add = (fun x y -> x + y);;\n",
    "add(5)(6);;"
   ]
  },
  {
   "cell_type": "code",
   "execution_count": 31,
   "id": "2fc243db",
   "metadata": {},
   "outputs": [
    {
     "data": {
      "text/plain": [
       "- : int = 11\n"
      ]
     },
     "execution_count": 31,
     "metadata": {},
     "output_type": "execute_result"
    }
   ],
   "source": [
    "add 5 6;;"
   ]
  },
  {
   "cell_type": "markdown",
   "id": "1ea88059",
   "metadata": {},
   "source": [
    "**Inference**\n",
    "- This each parameter is parsed in parenthesis (maybe but not necessary) seperated by a space (mandatory when used without parenthesis)."
   ]
  },
  {
   "cell_type": "markdown",
   "id": "f0adc598",
   "metadata": {},
   "source": [
    "## Summarised Syntax for Named Functions"
   ]
  },
  {
   "cell_type": "code",
   "execution_count": 32,
   "id": "d62fe202",
   "metadata": {},
   "outputs": [
    {
     "data": {
      "text/plain": [
       "val dec : int -> int = <fun>\n"
      ]
     },
     "execution_count": 32,
     "metadata": {},
     "output_type": "execute_result"
    },
    {
     "data": {
      "text/plain": [
       "- : int = -1\n"
      ]
     },
     "execution_count": 32,
     "metadata": {},
     "output_type": "execute_result"
    }
   ],
   "source": [
    "let dec x = x - 1;;\n",
    "dec 0;;"
   ]
  },
  {
   "cell_type": "markdown",
   "id": "3863c218",
   "metadata": {},
   "source": [
    "**Inference**\n",
    "- We can simply the syntax of Named Functions by using a Let Definition like syntax.\n",
    "\n",
    "\n",
    "**Important**\n",
    "- The Summarised definition for named functions doesnt allow dosent allow function declaration and function call simultaneously."
   ]
  },
  {
   "cell_type": "code",
   "execution_count": 33,
   "id": "627b7547",
   "metadata": {},
   "outputs": [
    {
     "data": {
      "text/plain": [
       "val mul : int -> int -> int = <fun>\n"
      ]
     },
     "execution_count": 33,
     "metadata": {},
     "output_type": "execute_result"
    },
    {
     "data": {
      "text/plain": [
       "- : int = 30\n"
      ]
     },
     "execution_count": 33,
     "metadata": {},
     "output_type": "execute_result"
    }
   ],
   "source": [
    "let mul x y = x * y;;\n",
    "mul 5 6;;"
   ]
  },
  {
   "cell_type": "markdown",
   "id": "7bc2a1b5",
   "metadata": {},
   "source": [
    "## Syntactic Sugar in OCaml\n",
    "\n",
    "- When syntax used to get a similar result is different but the inherent semantics is the same"
   ]
  },
  {
   "cell_type": "code",
   "execution_count": 34,
   "id": "37299150",
   "metadata": {},
   "outputs": [
    {
     "data": {
      "text/plain": [
       "- : int = 3\n"
      ]
     },
     "execution_count": 34,
     "metadata": {},
     "output_type": "execute_result"
    },
    {
     "data": {
      "text/plain": [
       "- : int = 3\n"
      ]
     },
     "execution_count": 34,
     "metadata": {},
     "output_type": "execute_result"
    }
   ],
   "source": [
    "let x = 2 in x + 1;;\n",
    "(fun x -> x + 1) 2;;"
   ]
  },
  {
   "cell_type": "markdown",
   "id": "1a2ac311",
   "metadata": {},
   "source": [
    "## Recursive Functions in OCaml\n",
    "\n",
    "- Any recursive function defined in OCaml needs to be explicitly defined using the `rec` keyword.\n",
    "- The `rec` keyword needs to be parsed between the `let` keyword and the `named function identifier`.\n",
    "- This alerts the OCaml compiler that the given function is a recursive function."
   ]
  },
  {
   "cell_type": "code",
   "execution_count": 35,
   "id": "9eb7a4bd",
   "metadata": {},
   "outputs": [
    {
     "data": {
      "text/plain": [
       "val fact : int -> int = <fun>\n"
      ]
     },
     "execution_count": 35,
     "metadata": {},
     "output_type": "execute_result"
    },
    {
     "data": {
      "text/plain": [
       "- : int = 6\n"
      ]
     },
     "execution_count": 35,
     "metadata": {},
     "output_type": "execute_result"
    }
   ],
   "source": [
    "let rec fact x = \n",
    "    if x = 0 then 1\n",
    "    else x * fact (x - 1);;\n",
    "    \n",
    "fact(3);;"
   ]
  },
  {
   "cell_type": "code",
   "execution_count": 36,
   "id": "1ce73dbd",
   "metadata": {},
   "outputs": [
    {
     "data": {
      "text/plain": [
       "val fact : int -> int = <fun>\n"
      ]
     },
     "execution_count": 36,
     "metadata": {},
     "output_type": "execute_result"
    },
    {
     "data": {
      "text/plain": [
       "- : int = 6\n"
      ]
     },
     "execution_count": 36,
     "metadata": {},
     "output_type": "execute_result"
    }
   ],
   "source": [
    "let fact x = \n",
    "    if x = 0 then 1\n",
    "    else x * fact (x - 1);;\n",
    "    \n",
    "fact(3);;"
   ]
  },
  {
   "cell_type": "markdown",
   "id": "e1bdecfb",
   "metadata": {},
   "source": [
    "**Important**\n",
    "- If the `rec` keyword isnt parsed while declaring a recusive function then the function stops executing after the first recursive function call."
   ]
  },
  {
   "cell_type": "markdown",
   "id": "3dcdfa40",
   "metadata": {},
   "source": [
    "## Function Types\n",
    "\n",
    "- The types of a data accepted by the functions can be specified in OCaml\n",
    "\n",
    "`Function Identifier` : `<type t1>` -> `<type t2>` -> `<type t3>` -> `<output type>` = `<High level function implementation>`"
   ]
  },
  {
   "cell_type": "code",
   "execution_count": 37,
   "id": "02c1b93c",
   "metadata": {},
   "outputs": [
    {
     "data": {
      "text/plain": [
       "val addMul : int -> int -> int -> int = <fun>\n"
      ]
     },
     "execution_count": 37,
     "metadata": {},
     "output_type": "execute_result"
    }
   ],
   "source": [
    "let addMul x y z = (x + y) * z;;"
   ]
  },
  {
   "cell_type": "markdown",
   "id": "2d6b6df9",
   "metadata": {},
   "source": [
    "## Partial Application of Functions\n",
    "\n",
    "- OCaml provides partial application of functions.\n",
    "- Due to its level by level access of parameters in accordance to the scope rule of let constants when providing a function with incomplete arguments it create a partial function."
   ]
  },
  {
   "cell_type": "code",
   "execution_count": 38,
   "id": "f233a016",
   "metadata": {},
   "outputs": [
    {
     "data": {
      "text/plain": [
       "- : int -> int -> int = <fun>\n"
      ]
     },
     "execution_count": 38,
     "metadata": {},
     "output_type": "execute_result"
    }
   ],
   "source": [
    "addMul(8);;"
   ]
  },
  {
   "cell_type": "code",
   "execution_count": 39,
   "id": "aab2568f",
   "metadata": {},
   "outputs": [
    {
     "data": {
      "text/plain": [
       "- : int -> int = <fun>\n"
      ]
     },
     "execution_count": 39,
     "metadata": {},
     "output_type": "execute_result"
    }
   ],
   "source": [
    "addMul(8) (5);;"
   ]
  },
  {
   "cell_type": "code",
   "execution_count": 40,
   "id": "1a1ec2e6",
   "metadata": {},
   "outputs": [
    {
     "data": {
      "text/plain": [
       "- : int = 130\n"
      ]
     },
     "execution_count": 40,
     "metadata": {},
     "output_type": "execute_result"
    }
   ],
   "source": [
    "addMul 8 5 10;;"
   ]
  },
  {
   "cell_type": "markdown",
   "id": "48048a57",
   "metadata": {},
   "source": [
    "**Inference**\n",
    "- We can see that the function `addMul` creates part functions for each parameter is parsed.\n",
    "- It then chains all the parameters / part functions alike to return the final result of the function.\n",
    "- Each of the part functions can also be `assigned identifiers` to perform operations like Lambda Functions."
   ]
  },
  {
   "cell_type": "code",
   "execution_count": 41,
   "id": "a8d2c1db",
   "metadata": {},
   "outputs": [
    {
     "data": {
      "text/plain": [
       "val add85 : int -> int = <fun>\n"
      ]
     },
     "execution_count": 41,
     "metadata": {},
     "output_type": "execute_result"
    }
   ],
   "source": [
    "let add85 = addMul 8 5;;"
   ]
  },
  {
   "cell_type": "code",
   "execution_count": 42,
   "id": "5e53c090",
   "metadata": {},
   "outputs": [
    {
     "data": {
      "text/plain": [
       "- : int = 65\n"
      ]
     },
     "execution_count": 42,
     "metadata": {},
     "output_type": "execute_result"
    }
   ],
   "source": [
    "add85(5);;"
   ]
  },
  {
   "cell_type": "markdown",
   "id": "94b9954c",
   "metadata": {},
   "source": [
    "## Polymorphic Functions\n",
    "\n",
    "- In OCaml a template is denoted by 'a, 'b ... which are referenced using their greek counterparts $\\alpha$ $\\beta$ ..."
   ]
  },
  {
   "cell_type": "code",
   "execution_count": 43,
   "id": "227c184c",
   "metadata": {},
   "outputs": [
    {
     "data": {
      "text/plain": [
       "val id : 'a -> 'a = <fun>\n"
      ]
     },
     "execution_count": 43,
     "metadata": {},
     "output_type": "execute_result"
    }
   ],
   "source": [
    "let id x = x;;"
   ]
  },
  {
   "cell_type": "markdown",
   "id": "3b005ba4",
   "metadata": {},
   "source": [
    "**Inference**\n",
    "- Thus 'a is used to indicate that assuming any input to be denoted by 'a the function returns 'a in its native dtype\n",
    "- Hence the function is also polymorphic as the template can be used for any datatype."
   ]
  },
  {
   "cell_type": "code",
   "execution_count": 44,
   "id": "613b9d0a",
   "metadata": {},
   "outputs": [
    {
     "data": {
      "text/plain": [
       "- : int = 10\n"
      ]
     },
     "execution_count": 44,
     "metadata": {},
     "output_type": "execute_result"
    }
   ],
   "source": [
    "id(10);;"
   ]
  },
  {
   "cell_type": "code",
   "execution_count": 45,
   "id": "94ef8689",
   "metadata": {},
   "outputs": [
    {
     "data": {
      "text/plain": [
       "- : string = \"Hello, World\"\n"
      ]
     },
     "execution_count": 45,
     "metadata": {},
     "output_type": "execute_result"
    }
   ],
   "source": [
    "id \"Hello, World\";;"
   ]
  },
  {
   "cell_type": "code",
   "execution_count": 46,
   "id": "e76e4ab4",
   "metadata": {},
   "outputs": [
    {
     "data": {
      "text/plain": [
       "- : bool = true\n"
      ]
     },
     "execution_count": 46,
     "metadata": {},
     "output_type": "execute_result"
    }
   ],
   "source": [
    "id true;;"
   ]
  },
  {
   "cell_type": "markdown",
   "id": "38260b12",
   "metadata": {},
   "source": [
    "## Operators as Functions\n",
    "\n",
    "- Any operator wrapped around a parenthesis is a function in OCaml\n",
    "- (*space* `Operator` *space*)"
   ]
  },
  {
   "cell_type": "code",
   "execution_count": 47,
   "id": "a538e575",
   "metadata": {},
   "outputs": [
    {
     "data": {
      "text/plain": [
       "- : int = 5\n"
      ]
     },
     "execution_count": 47,
     "metadata": {},
     "output_type": "execute_result"
    }
   ],
   "source": [
    "( + ) 2 3;;"
   ]
  },
  {
   "cell_type": "code",
   "execution_count": 48,
   "id": "5fcc7d00",
   "metadata": {},
   "outputs": [
    {
     "data": {
      "text/plain": [
       "- : int = 6\n"
      ]
     },
     "execution_count": 48,
     "metadata": {},
     "output_type": "execute_result"
    }
   ],
   "source": [
    "( * ) 2 3;;"
   ]
  },
  {
   "cell_type": "code",
   "execution_count": 49,
   "id": "72c60510",
   "metadata": {},
   "outputs": [
    {
     "data": {
      "text/plain": [
       "- : int = -1\n"
      ]
     },
     "execution_count": 49,
     "metadata": {},
     "output_type": "execute_result"
    }
   ],
   "source": [
    "( - ) 2 3;;"
   ]
  },
  {
   "cell_type": "code",
   "execution_count": 50,
   "id": "ef765187",
   "metadata": {},
   "outputs": [
    {
     "data": {
      "text/plain": [
       "- : int = 0\n"
      ]
     },
     "execution_count": 50,
     "metadata": {},
     "output_type": "execute_result"
    }
   ],
   "source": [
    "( / ) 2 3;;"
   ]
  },
  {
   "cell_type": "code",
   "execution_count": 51,
   "id": "a4dc61c3",
   "metadata": {},
   "outputs": [
    {
     "data": {
      "text/plain": [
       "- : 'a -> 'a -> bool = <fun>\n"
      ]
     },
     "execution_count": 51,
     "metadata": {},
     "output_type": "execute_result"
    }
   ],
   "source": [
    "( = );;"
   ]
  },
  {
   "cell_type": "markdown",
   "id": "bf9a3ac2",
   "metadata": {},
   "source": [
    "**Inference**\n",
    "\n",
    "- Here using the = as a function we first create an identity function as it verifies LHS and RHS, thus it is depicted by 'a -> 'a.\n",
    "- Once the verification is completed the function is evaluated using a boolean type to check for equality."
   ]
  },
  {
   "cell_type": "code",
   "execution_count": 52,
   "id": "0a21ad7d",
   "metadata": {},
   "outputs": [
    {
     "data": {
      "text/plain": [
       "- : bool = true\n"
      ]
     },
     "execution_count": 52,
     "metadata": {},
     "output_type": "execute_result"
    }
   ],
   "source": [
    "5 = 5;;"
   ]
  },
  {
   "cell_type": "code",
   "execution_count": 53,
   "id": "887a96a6",
   "metadata": {},
   "outputs": [
    {
     "data": {
      "text/plain": [
       "- : bool = false\n"
      ]
     },
     "execution_count": 53,
     "metadata": {},
     "output_type": "execute_result"
    }
   ],
   "source": [
    "10 = 11;;"
   ]
  },
  {
   "cell_type": "code",
   "execution_count": 54,
   "id": "7070a953",
   "metadata": {},
   "outputs": [
    {
     "data": {
      "text/plain": [
       "- : bool = false\n"
      ]
     },
     "execution_count": 54,
     "metadata": {},
     "output_type": "execute_result"
    }
   ],
   "source": [
    "\"Hello\" = \"hello\";;"
   ]
  },
  {
   "cell_type": "markdown",
   "id": "2c11aae0",
   "metadata": {},
   "source": [
    "## Function Application Operators\n",
    "\n",
    "- They are used to simplfy functions by removing parenthesis using binary operators for alternate executions of the functions.\n",
    "\n",
    "- `**@@ (Application Operator)**`: Computes and evaluates anything on the RHS of the function call before parsing any parameter to the function\n",
    "- `**|> (Reverse Application Operator)**:` It computes all the operations that need to be performed by function as a chain of steps put together during declaration from LHS to RHS"
   ]
  },
  {
   "cell_type": "code",
   "execution_count": null,
   "id": "91ea4d1a",
   "metadata": {},
   "outputs": [],
   "source": [
    "id @@ 4 + 5;;"
   ]
  },
  {
   "cell_type": "code",
   "execution_count": null,
   "id": "68e32b4d",
   "metadata": {},
   "outputs": [],
   "source": [
    "5 |> succ |> id;;"
   ]
  },
  {
   "cell_type": "code",
   "execution_count": null,
   "id": "7553538a",
   "metadata": {},
   "outputs": [],
   "source": []
  }
 ],
 "metadata": {
  "kernelspec": {
   "display_name": "OCaml 4.13",
   "language": "OCaml",
   "name": "ocaml-jupyter-4.13"
  },
  "language_info": {
   "codemirror_mode": "text/x-ocaml",
   "file_extension": ".ml",
   "mimetype": "text/x-ocaml",
   "name": "OCaml",
   "nbconverter_exporter": null,
   "pygments_lexer": "OCaml",
   "version": "4.13.1"
  }
 },
 "nbformat": 4,
 "nbformat_minor": 5
}
