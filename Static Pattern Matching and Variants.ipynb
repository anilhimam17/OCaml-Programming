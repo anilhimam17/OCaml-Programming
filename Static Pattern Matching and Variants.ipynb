{
 "cells": [
  {
   "cell_type": "markdown",
   "id": "fd16861c",
   "metadata": {},
   "source": [
    "## Static Pattern Matching\n",
    "\n",
    "- A fancy way to describe the usage of wildcards.\n",
    "- OCaml provides `wildcards` which can be used during pattern matching.\n",
    "- The Wildcards provided by OCaml are used to `generalise exhaustive cases` which need would need an extensive set of rules and pattern variables to activate when the case is matched.\n",
    "- The wildcards in OCaml are similar to Python."
   ]
  },
  {
   "cell_type": "markdown",
   "id": "28407a9a",
   "metadata": {},
   "source": [
    "**Static Pattern Matching with Wildcards**\n",
    "--"
   ]
  },
  {
   "cell_type": "code",
   "execution_count": 14,
   "id": "a14f1365",
   "metadata": {},
   "outputs": [
    {
     "data": {
      "text/plain": [
       "type plane = {\n",
       "  company : string;\n",
       "  model : string;\n",
       "  range : float;\n",
       "  passengers : int;\n",
       "}\n"
      ]
     },
     "execution_count": 14,
     "metadata": {},
     "output_type": "execute_result"
    }
   ],
   "source": [
    "type plane = {\n",
    "    company : string;\n",
    "    model : string;\n",
    "    range : float;\n",
    "    passengers : int;\n",
    "}"
   ]
  },
  {
   "cell_type": "code",
   "execution_count": 15,
   "id": "4470e881",
   "metadata": {},
   "outputs": [
    {
     "data": {
      "text/plain": [
       "val a380 : plane =\n",
       "  {company = \"Airbus\"; model = \"A380\"; range = 15386.; passengers = 855}\n"
      ]
     },
     "execution_count": 15,
     "metadata": {},
     "output_type": "execute_result"
    }
   ],
   "source": [
    "let a380 = {\n",
    "    company = \"Airbus\";\n",
    "    model = \"A380\";\n",
    "    range = 15386.;\n",
    "    passengers = 855;\n",
    "}"
   ]
  },
  {
   "cell_type": "code",
   "execution_count": 16,
   "id": "a4407197",
   "metadata": {},
   "outputs": [
    {
     "data": {
      "text/plain": [
       "val planeDescription : plane -> string = <fun>\n"
      ]
     },
     "execution_count": 16,
     "metadata": {},
     "output_type": "execute_result"
    }
   ],
   "source": [
    "let planeDescription = function\n",
    "    | {company; model; range; passengers} -> \"Company: \" ^ company;;"
   ]
  },
  {
   "cell_type": "code",
   "execution_count": 17,
   "id": "74fccc48",
   "metadata": {},
   "outputs": [
    {
     "data": {
      "text/plain": [
       "- : string = \"Company: Airbus\"\n"
      ]
     },
     "execution_count": 17,
     "metadata": {},
     "output_type": "execute_result"
    }
   ],
   "source": [
    "planeDescription(a380);;"
   ]
  },
  {
   "cell_type": "markdown",
   "id": "99ebecc7",
   "metadata": {},
   "source": [
    "**Static Pattern Matching with Wildcards**\n",
    "--"
   ]
  },
  {
   "cell_type": "code",
   "execution_count": 12,
   "id": "385fa95c",
   "metadata": {},
   "outputs": [
    {
     "data": {
      "text/plain": [
       "val names : string list = [\"Malla\"; \"Sai\"; \"Kusum\"]\n"
      ]
     },
     "execution_count": 12,
     "metadata": {},
     "output_type": "execute_result"
    }
   ],
   "source": [
    "let names = [\"Malla\"; \"Sai\"; \"Kusum\"];;"
   ]
  },
  {
   "cell_type": "code",
   "execution_count": 18,
   "id": "1a77f37b",
   "metadata": {},
   "outputs": [
    {
     "name": "stderr",
     "output_type": "stream",
     "text": [
      "File \"[18]\", lines 1-2, characters 16-22:\n",
      "1 | ................function\n",
      "2 |     | a :: b :: c -> a..\n",
      "Warning 8 [partial-match]: this pattern-matching is not exhaustive.\n",
      "Here is an example of a case that is not matched:\n",
      "_::[]\n"
     ]
    },
    {
     "data": {
      "text/plain": [
       "val firstName : 'a list -> 'a = <fun>\n"
      ]
     },
     "execution_count": 18,
     "metadata": {},
     "output_type": "execute_result"
    }
   ],
   "source": [
    "let firstName = function\n",
    "    | a :: b :: c -> a;;"
   ]
  },
  {
   "cell_type": "code",
   "execution_count": 19,
   "id": "1628bcd4",
   "metadata": {},
   "outputs": [
    {
     "data": {
      "text/plain": [
       "- : string = \"Malla\"\n"
      ]
     },
     "execution_count": 19,
     "metadata": {},
     "output_type": "execute_result"
    }
   ],
   "source": [
    "firstName(names);;"
   ]
  },
  {
   "cell_type": "markdown",
   "id": "15fcfed6",
   "metadata": {},
   "source": [
    "**Inference**\n",
    "- In the above case we havent matched all the conditions corresponding to the patterns that can be generated from the list.\n",
    "- Thus we get a warning to account for those conditions so as to remove / reduce bugs.\n",
    "\n",
    "**This can be done using Wildcards and Static Pattern Matching**"
   ]
  },
  {
   "cell_type": "code",
   "execution_count": 23,
   "id": "282ffa46",
   "metadata": {},
   "outputs": [
    {
     "data": {
      "text/plain": [
       "val firstName : string list -> string = <fun>\n"
      ]
     },
     "execution_count": 23,
     "metadata": {},
     "output_type": "execute_result"
    }
   ],
   "source": [
    "let firstName = function\n",
    "    | a :: b :: c -> a\n",
    "    | (_ :: [] | []) -> \"Empty\";;"
   ]
  },
  {
   "cell_type": "code",
   "execution_count": 24,
   "id": "07903177",
   "metadata": {},
   "outputs": [
    {
     "data": {
      "text/plain": [
       "- : string = \"Malla\"\n"
      ]
     },
     "execution_count": 24,
     "metadata": {},
     "output_type": "execute_result"
    }
   ],
   "source": [
    "firstName(names);;"
   ]
  },
  {
   "cell_type": "markdown",
   "id": "15471a7d",
   "metadata": {},
   "source": [
    "## Working with Variants in OCaml\n",
    "\n",
    "- Variants provide a list of constants that could be matched\n",
    "- They can be further modified to be holders of a class of constant, where each constant can be a datatype containing its properties as records"
   ]
  },
  {
   "cell_type": "markdown",
   "id": "37921932",
   "metadata": {},
   "source": [
    "**Simple Variants**\n",
    "--"
   ]
  },
  {
   "cell_type": "code",
   "execution_count": 26,
   "id": "fa8e703d",
   "metadata": {},
   "outputs": [
    {
     "data": {
      "text/plain": [
       "type planeModels = A380 | B747 | A350 | B777\n"
      ]
     },
     "execution_count": 26,
     "metadata": {},
     "output_type": "execute_result"
    },
    {
     "data": {
      "text/plain": [
       "val a380 : planeModels = A380\n"
      ]
     },
     "execution_count": 26,
     "metadata": {},
     "output_type": "execute_result"
    }
   ],
   "source": [
    "(* Defining a Variant which is a set of Plane Models *)\n",
    "type planeModels = A380 | B747 | A350 | B777;;\n",
    "\n",
    "(* Defining a expression using a value from the variant *)\n",
    "let a380 = A380;"
   ]
  },
  {
   "cell_type": "markdown",
   "id": "3c3b93d1",
   "metadata": {},
   "source": [
    "**Inference**\n",
    "- The OCaml interpreter automatically reads the constant and applies the type annotations accordinly"
   ]
  },
  {
   "cell_type": "markdown",
   "id": "802e45d2",
   "metadata": {},
   "source": [
    "**Complex Variants**\n",
    "--"
   ]
  },
  {
   "cell_type": "code",
   "execution_count": 78,
   "id": "2e8d9402",
   "metadata": {},
   "outputs": [
    {
     "data": {
      "text/plain": [
       "type point = float * float\n"
      ]
     },
     "execution_count": 78,
     "metadata": {},
     "output_type": "execute_result"
    },
    {
     "data": {
      "text/plain": [
       "type shapes =\n",
       "    Circle of { center : point; radius : float; }\n",
       "  | Rectangle of { length : float; breadth : float; }\n"
      ]
     },
     "execution_count": 78,
     "metadata": {},
     "output_type": "execute_result"
    }
   ],
   "source": [
    "type point = float * float;;\n",
    "\n",
    "type shapes = \n",
    "    | Circle of {center: point; radius: float}\n",
    "    | Rectangle of {length: float; breadth: float};;"
   ]
  },
  {
   "cell_type": "code",
   "execution_count": 79,
   "id": "60724ad7",
   "metadata": {},
   "outputs": [
    {
     "data": {
      "text/plain": [
       "val firstCircle : shapes = Circle {center = (0., 0.); radius = 5.}\n"
      ]
     },
     "execution_count": 79,
     "metadata": {},
     "output_type": "execute_result"
    }
   ],
   "source": [
    "let firstCircle : shapes = Circle {\n",
    "    center = (0., 0.);\n",
    "    radius = 5.;\n",
    "}"
   ]
  },
  {
   "cell_type": "code",
   "execution_count": 81,
   "id": "77e0b69a",
   "metadata": {},
   "outputs": [
    {
     "data": {
      "text/plain": [
       "val firstRectangle : shapes = Rectangle {length = 2.; breadth = 4.}\n"
      ]
     },
     "execution_count": 81,
     "metadata": {},
     "output_type": "execute_result"
    }
   ],
   "source": [
    "let firstRectangle = Rectangle {\n",
    "    length = 2.;\n",
    "    breadth = 4.;\n",
    "}"
   ]
  },
  {
   "cell_type": "code",
   "execution_count": 82,
   "id": "eb1d60b5",
   "metadata": {},
   "outputs": [
    {
     "data": {
      "text/plain": [
       "type extraShape = Polygon of { noOfSides : int; }\n"
      ]
     },
     "execution_count": 82,
     "metadata": {},
     "output_type": "execute_result"
    }
   ],
   "source": [
    "type extraShape = \n",
    "    | Polygon of {noOfSides: int};;"
   ]
  },
  {
   "cell_type": "code",
   "execution_count": 83,
   "id": "e7842217",
   "metadata": {},
   "outputs": [
    {
     "data": {
      "text/plain": [
       "val firstPolygon : extraShape = Polygon {noOfSides = 10}\n"
      ]
     },
     "execution_count": 83,
     "metadata": {},
     "output_type": "execute_result"
    }
   ],
   "source": [
    "let firstPolygon = Polygon {\n",
    "    noOfSides = 10;\n",
    "}"
   ]
  },
  {
   "cell_type": "markdown",
   "id": "0a0f4e13",
   "metadata": {},
   "source": [
    "## Pattern Matching with Variants"
   ]
  },
  {
   "cell_type": "code",
   "execution_count": 84,
   "id": "3b415467",
   "metadata": {},
   "outputs": [
    {
     "data": {
      "text/plain": [
       "val shapeDescretion : shapes -> string = <fun>\n"
      ]
     },
     "execution_count": 84,
     "metadata": {},
     "output_type": "execute_result"
    }
   ],
   "source": [
    "let shapeDescretion = function\n",
    "    | Circle {center; radius} -> \"You have parsed a Circle\"\n",
    "    | Rectangle {length; breadth} -> \"You have parsed a Rectangle\";;"
   ]
  },
  {
   "cell_type": "code",
   "execution_count": 85,
   "id": "4c9b2d3e",
   "metadata": {},
   "outputs": [
    {
     "data": {
      "text/plain": [
       "- : string = \"You have parsed a Circle\"\n"
      ]
     },
     "execution_count": 85,
     "metadata": {},
     "output_type": "execute_result"
    },
    {
     "data": {
      "text/plain": [
       "- : string = \"You have parsed a Rectangle\"\n"
      ]
     },
     "execution_count": 85,
     "metadata": {},
     "output_type": "execute_result"
    }
   ],
   "source": [
    "shapeDescretion(firstCircle);;\n",
    "shapeDescretion(firstRectangle);;"
   ]
  },
  {
   "cell_type": "code",
   "execution_count": 86,
   "id": "a37adf03",
   "metadata": {},
   "outputs": [
    {
     "name": "stderr",
     "output_type": "stream",
     "text": [
      "File \"[86]\", line 4, characters 6-7:\n",
      "4 |     | _ -> \"You have parsed an undefined shape\";;\n",
      "          ^\n",
      "Warning 11 [redundant-case]: this match case is unused.\n"
     ]
    },
    {
     "data": {
      "text/plain": [
       "val shapeDescretion : shapes -> string = <fun>\n"
      ]
     },
     "execution_count": 86,
     "metadata": {},
     "output_type": "execute_result"
    }
   ],
   "source": [
    "let shapeDescretion = function\n",
    "    | Circle {center; radius} -> \"You have parsed a Circle\"\n",
    "    | Rectangle {length; breadth} -> \"You have parsed a Rectangle\"\n",
    "    | _ -> \"You have parsed an undefined shape\";;"
   ]
  },
  {
   "cell_type": "code",
   "execution_count": 87,
   "id": "d5860b6b",
   "metadata": {},
   "outputs": [
    {
     "ename": "error",
     "evalue": "compile_error",
     "output_type": "error",
     "traceback": [
      "File \"[87]\", line 1, characters 15-29:\n1 | shapeDescretion(firstPolygon);\n                   ^^^^^^^^^^^^^^\nError: This expression has type extraShape\n       but an expression was expected of type shapes\n"
     ]
    }
   ],
   "source": [
    "shapeDescretion(firstPolygon);"
   ]
  },
  {
   "cell_type": "markdown",
   "id": "6b8bf943",
   "metadata": {},
   "source": [
    "**Inference**\n",
    "- Since `all the cases of the shapeDescretion` function are of the `type shapes` OCaml assumes only values from the same dtype will be parsed to the function.\n",
    "- Thus on building a default case in the function it already know that the `default case is redundant` as all the shapes were accounted for.\n",
    "- Therefore on parsing an expression of `type -> extraShape` the `compiler doesnt execute` as it demands a value of type shapes."
   ]
  },
  {
   "cell_type": "markdown",
   "id": "7dbdb693",
   "metadata": {},
   "source": [
    "## Extended Pattern Matching with Variants"
   ]
  },
  {
   "cell_type": "code",
   "execution_count": 90,
   "id": "8cefc74a",
   "metadata": {},
   "outputs": [
    {
     "data": {
      "text/plain": [
       "val areas : shapes -> float = <fun>\n"
      ]
     },
     "execution_count": 90,
     "metadata": {},
     "output_type": "execute_result"
    }
   ],
   "source": [
    "let areas = function\n",
    "    | Circle {center; radius} -> 3.14 *. radius *. radius\n",
    "    | Rectangle {length; breadth} -> length *. breadth;;"
   ]
  },
  {
   "cell_type": "code",
   "execution_count": 92,
   "id": "8f4415c0",
   "metadata": {},
   "outputs": [
    {
     "data": {
      "text/plain": [
       "- : float = 78.5\n"
      ]
     },
     "execution_count": 92,
     "metadata": {},
     "output_type": "execute_result"
    }
   ],
   "source": [
    "areas(firstCircle);;"
   ]
  },
  {
   "cell_type": "code",
   "execution_count": 93,
   "id": "418536dd",
   "metadata": {},
   "outputs": [
    {
     "data": {
      "text/plain": [
       "- : float = 8.\n"
      ]
     },
     "execution_count": 93,
     "metadata": {},
     "output_type": "execute_result"
    }
   ],
   "source": [
    "areas(firstRectangle);;"
   ]
  },
  {
   "cell_type": "markdown",
   "id": "2b868e3a",
   "metadata": {},
   "source": [
    "## Working with an Example of Variants"
   ]
  },
  {
   "cell_type": "code",
   "execution_count": 101,
   "id": "2752b7c8",
   "metadata": {},
   "outputs": [
    {
     "data": {
      "text/plain": [
       "type metrics =\n",
       "    Precision of { tp : int; fp : int; }\n",
       "  | Recall of { tp : int; fn : int; }\n"
      ]
     },
     "execution_count": 101,
     "metadata": {},
     "output_type": "execute_result"
    }
   ],
   "source": [
    "(* Defining the Datatypes for different metrics *)\n",
    "type metrics = \n",
    "    | Precision of {tp: int; fp: int}\n",
    "    | Recall of {tp: int; fn: int};;"
   ]
  },
  {
   "cell_type": "code",
   "execution_count": 102,
   "id": "9f876540",
   "metadata": {},
   "outputs": [
    {
     "data": {
      "text/plain": [
       "val precisionOne : metrics = Precision {tp = 87; fp = 4}\n"
      ]
     },
     "execution_count": 102,
     "metadata": {},
     "output_type": "execute_result"
    },
    {
     "data": {
      "text/plain": [
       "val recallOne : metrics = Recall {tp = 87; fn = 4}\n"
      ]
     },
     "execution_count": 102,
     "metadata": {},
     "output_type": "execute_result"
    }
   ],
   "source": [
    "(* Declaring Let Expressions for different metrics *)\n",
    "let precisionOne = Precision {tp = 87; fp = 4};;\n",
    "let recallOne = Recall {tp = 87; fn = 4};;"
   ]
  },
  {
   "cell_type": "code",
   "execution_count": 107,
   "id": "842765f8",
   "metadata": {},
   "outputs": [
    {
     "data": {
      "text/plain": [
       "val f1Score : int -> int -> int = <fun>\n"
      ]
     },
     "execution_count": 107,
     "metadata": {},
     "output_type": "execute_result"
    }
   ],
   "source": [
    "(* Defining a named function for Calculating the F1 Score *)\n",
    "let f1Score precision recall = \n",
    "    1 / ((1 / precision) + (1 / recall));;"
   ]
  },
  {
   "cell_type": "code",
   "execution_count": 105,
   "id": "e321b7c0",
   "metadata": {},
   "outputs": [
    {
     "ename": "error",
     "evalue": "compile_error",
     "output_type": "error",
     "traceback": [
      "File \"[105]\", line 1, characters 8-20:\n1 | f1Score precisionOne recallOne;;\n            ^^^^^^^^^^^^\nError: This expression has type metrics\n       but an expression was expected of type int\n"
     ]
    }
   ],
   "source": [
    "f1Score precisionOne recallOne;;"
   ]
  },
  {
   "cell_type": "code",
   "execution_count": null,
   "id": "2c52afd7",
   "metadata": {},
   "outputs": [],
   "source": []
  }
 ],
 "metadata": {
  "kernelspec": {
   "display_name": "OCaml 4.13",
   "language": "OCaml",
   "name": "ocaml-jupyter-4.13"
  },
  "language_info": {
   "codemirror_mode": "text/x-ocaml",
   "file_extension": ".ml",
   "mimetype": "text/x-ocaml",
   "name": "OCaml",
   "nbconverter_exporter": null,
   "pygments_lexer": "OCaml",
   "version": "4.13.1"
  }
 },
 "nbformat": 4,
 "nbformat_minor": 5
}
