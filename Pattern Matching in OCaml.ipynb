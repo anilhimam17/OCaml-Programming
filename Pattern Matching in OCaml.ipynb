{
 "cells": [
  {
   "cell_type": "markdown",
   "id": "02a14842",
   "metadata": {},
   "source": [
    "## Pattern Matching in OCaml\n",
    "- Pattern matching in OCaml takes similar functionality as that of Switch Statements in other programming languages."
   ]
  },
  {
   "cell_type": "code",
   "execution_count": 1,
   "id": "fa216007",
   "metadata": {},
   "outputs": [
    {
     "data": {
      "text/plain": [
       "val x : string = \"Yep thats rt !!\"\n"
      ]
     },
     "execution_count": 1,
     "metadata": {},
     "output_type": "execute_result"
    }
   ],
   "source": [
    "let x = \n",
    "match not true with\n",
    "| true -> \"Shouldnt be possible !!\"\n",
    "| false -> \"Yep thats rt !!\";;"
   ]
  },
  {
   "cell_type": "code",
   "execution_count": 2,
   "id": "74741b06",
   "metadata": {},
   "outputs": [
    {
     "data": {
      "text/plain": [
       "val x : string = \"Oh, thats close you are about 1000 off !!\"\n"
      ]
     },
     "execution_count": 2,
     "metadata": {},
     "output_type": "execute_result"
    }
   ],
   "source": [
    "let x = \n",
    "match 1630 with\n",
    "| (1830 | 1630) -> \"Oh, thats close you are about 1000 off !!\"\n",
    "| _ -> \"Damn you need to try again of course there are only 10000 combinations to go through ☺️\";;"
   ]
  },
  {
   "cell_type": "code",
   "execution_count": 3,
   "id": "d4b428f5",
   "metadata": {},
   "outputs": [
    {
     "data": {
      "text/plain": [
       "val x : string = \"World\"\n"
      ]
     },
     "execution_count": 3,
     "metadata": {},
     "output_type": "execute_result"
    }
   ],
   "source": [
    "let x = \n",
    "    match \"Hello\" with\n",
    "    | \"Hello\" -> \"World\"\n",
    "    | _ -> \"Cant seem to complete this sentence 😭😭!!\";;"
   ]
  },
  {
   "cell_type": "markdown",
   "id": "65ff93ff",
   "metadata": {},
   "source": [
    "## Pattern Matching Datatypes in OCaml\n",
    "- The match keyword also integrates dataypes into pattern matching.\n",
    "- This is like overloading the match keyword to do functions of in and is keywords in python."
   ]
  },
  {
   "cell_type": "markdown",
   "id": "48b3fa79",
   "metadata": {},
   "source": [
    "**Pattern Matching in Lists**\n",
    "--"
   ]
  },
  {
   "cell_type": "code",
   "execution_count": 4,
   "id": "c3eaba64",
   "metadata": {},
   "outputs": [
    {
     "data": {
      "text/plain": [
       "val x : string = \"empty\"\n"
      ]
     },
     "execution_count": 4,
     "metadata": {},
     "output_type": "execute_result"
    }
   ],
   "source": [
    "let x = \n",
    "    match [] with\n",
    "    | [] -> \"empty\"\n",
    "    | _ -> \"not empty\""
   ]
  },
  {
   "cell_type": "code",
   "execution_count": 5,
   "id": "f5f83f60",
   "metadata": {},
   "outputs": [
    {
     "name": "stderr",
     "output_type": "stream",
     "text": [
      "File \"[5]\", lines 2-4, characters 4-22:\n",
      "2 | ....match [\"Malla\"; \"Sai\"; \"Kusum\"] with\n",
      "3 |     | [] -> \"Empty List\"\n",
      "4 |     | a :: b :: c -> a..\n",
      "Warning 8 [partial-match]: this pattern-matching is not exhaustive.\n",
      "Here is an example of a case that is not matched:\n",
      "_::[]\n"
     ]
    },
    {
     "data": {
      "text/plain": [
       "val x : string = \"Malla\"\n"
      ]
     },
     "execution_count": 5,
     "metadata": {},
     "output_type": "execute_result"
    }
   ],
   "source": [
    "let x =\n",
    "    match [\"Malla\"; \"Sai\"; \"Kusum\"] with\n",
    "    | [] -> \"Empty List\"\n",
    "    | a :: b :: c -> a;;"
   ]
  },
  {
   "cell_type": "markdown",
   "id": "97900d27",
   "metadata": {},
   "source": [
    "**Inference**\n",
    "- Thus here the type matching variable can be used to unpack a collection.\n",
    "- Each pattern variable assign itself to a part of the collection.\n",
    "- The last variable assigns itself to a singleton list."
   ]
  },
  {
   "cell_type": "code",
   "execution_count": 6,
   "id": "16c3c5c5",
   "metadata": {},
   "outputs": [
    {
     "ename": "error",
     "evalue": "compile_error",
     "output_type": "error",
     "traceback": [
      "File \"[6]\", line 4, characters 21-22:\n4 |     | a :: b :: c -> c;;\n                         ^\nError: This expression has type string list\n       but an expression was expected of type string\n"
     ]
    }
   ],
   "source": [
    "let x =\n",
    "    match [\"Malla\"; \"Sai\"; \"Kusum\"] with\n",
    "    | [] -> \"Empty List\"\n",
    "    | a :: b :: c -> c;;"
   ]
  },
  {
   "cell_type": "markdown",
   "id": "7a47866d",
   "metadata": {},
   "source": [
    "**Inference**\n",
    "- Since the last variable assigns itself to a singleton list, which of a different datatype from the first match case of \"Empty List\" `(string)`.\n",
    "- We need to change either the datatype of the singleton list of the string to be uniform for the compile to execute the match expression."
   ]
  },
  {
   "cell_type": "code",
   "execution_count": 7,
   "id": "e0b61d23",
   "metadata": {},
   "outputs": [
    {
     "data": {
      "text/plain": [
       "val x : string list = [\"Kusum\"]\n"
      ]
     },
     "execution_count": 7,
     "metadata": {},
     "output_type": "execute_result"
    }
   ],
   "source": [
    "(* Convert to a Singleton List of type String *)\n",
    "let x =\n",
    "    match [\"Malla\"; \"Sai\"; \"Kusum\"] with\n",
    "    | [] -> [\"Empty List\"]\n",
    "    | a :: b :: c -> c\n",
    "    | _ :: [] -> [\"Default Value\"];;"
   ]
  },
  {
   "cell_type": "code",
   "execution_count": 8,
   "id": "19d697d2",
   "metadata": {},
   "outputs": [
    {
     "data": {
      "text/plain": [
       "val x : string = \"Kusum\"\n"
      ]
     },
     "execution_count": 8,
     "metadata": {},
     "output_type": "execute_result"
    }
   ],
   "source": [
    "(* Convert to a String by accounting for the empty list *)\n",
    "let x =\n",
    "    match [\"Malla\"; \"Sai\"; \"Kusum\"] with\n",
    "    | [] -> \"Empty List\"\n",
    "    | a :: b :: c :: [] -> c\n",
    "    | (_ :: _ :: _ :: _ | _::_::[] | _ :: []) -> \"Default Value\";;"
   ]
  },
  {
   "cell_type": "markdown",
   "id": "c41d6719",
   "metadata": {},
   "source": [
    "**Pattern Matching in Tuples**\n",
    "--"
   ]
  },
  {
   "cell_type": "code",
   "execution_count": 9,
   "id": "f844982f",
   "metadata": {},
   "outputs": [
    {
     "data": {
      "text/plain": [
       "val firstValue : 'a * 'b * 'c -> 'a = <fun>\n"
      ]
     },
     "execution_count": 9,
     "metadata": {},
     "output_type": "execute_result"
    },
    {
     "data": {
      "text/plain": [
       "- : int = 1\n"
      ]
     },
     "execution_count": 9,
     "metadata": {},
     "output_type": "execute_result"
    }
   ],
   "source": [
    "let firstValue f =\n",
    "    match f with\n",
    "    | (a, b, c) -> a;;\n",
    "    \n",
    "firstValue(1, 2, 3);;"
   ]
  },
  {
   "cell_type": "markdown",
   "id": "a5ef569d",
   "metadata": {},
   "source": [
    "**Inference**\n",
    "- Here **`firstValue`** is the name of the function which contains a match expression.\n",
    "- The expression inside the function **`firstValue`** is assigned to `f`.\n",
    "- Thus `f` is also the value returned by the function on executing the match statement."
   ]
  },
  {
   "cell_type": "markdown",
   "id": "1446636e",
   "metadata": {},
   "source": [
    "**Pattern Matching in Records**\n",
    "--"
   ]
  },
  {
   "cell_type": "code",
   "execution_count": 10,
   "id": "876642d7",
   "metadata": {},
   "outputs": [
    {
     "data": {
      "text/plain": [
       "type car = { company : string; model : string; }\n"
      ]
     },
     "execution_count": 10,
     "metadata": {},
     "output_type": "execute_result"
    },
    {
     "data": {
      "text/plain": [
       "val gtr : car = {company = \"Nissan\"; model = \"Skyline GTR\"}\n"
      ]
     },
     "execution_count": 10,
     "metadata": {},
     "output_type": "execute_result"
    }
   ],
   "source": [
    "type car = {\n",
    "    company : string;\n",
    "    model : string;\n",
    "}\n",
    "\n",
    "let gtr = {\n",
    "    company = \"Nissan\";\n",
    "    model = \"Skyline GTR\";\n",
    "}"
   ]
  },
  {
   "cell_type": "code",
   "execution_count": 11,
   "id": "8577eb25",
   "metadata": {},
   "outputs": [
    {
     "data": {
      "text/plain": [
       "val recordAsString : car -> string = <fun>\n"
      ]
     },
     "execution_count": 11,
     "metadata": {},
     "output_type": "execute_result"
    }
   ],
   "source": [
    "let recordAsString str = \n",
    "    match str with\n",
    "    | {company; model} -> company ^ \" \" ^ model;;"
   ]
  },
  {
   "cell_type": "markdown",
   "id": "ff7c4771",
   "metadata": {},
   "source": [
    "**Inference**\n",
    "- The above function syntax indicates that it takes an input of type **`Car`** and outputs a type **`String`**.\n",
    "- While pattern matching a record the match statement identifies the record by its field names."
   ]
  },
  {
   "cell_type": "code",
   "execution_count": 12,
   "id": "5897322a",
   "metadata": {},
   "outputs": [
    {
     "data": {
      "text/plain": [
       "- : string = \"Nissan Skyline GTR\"\n"
      ]
     },
     "execution_count": 12,
     "metadata": {},
     "output_type": "execute_result"
    }
   ],
   "source": [
    "recordAsString(gtr);;"
   ]
  },
  {
   "cell_type": "markdown",
   "id": "6f8ea86e",
   "metadata": {},
   "source": [
    "Important\n",
    "--\n",
    "\n",
    "# In OCaml always re run the code from the top if any changes were made for proper execution."
   ]
  },
  {
   "cell_type": "markdown",
   "id": "ac8f75ec",
   "metadata": {},
   "source": [
    "## Pattern Matching in Lists (Extended)"
   ]
  },
  {
   "cell_type": "markdown",
   "id": "195d70f0",
   "metadata": {},
   "source": [
    "**Calculating the Sum of the elements in a List**"
   ]
  },
  {
   "cell_type": "code",
   "execution_count": 13,
   "id": "3a5f677c",
   "metadata": {},
   "outputs": [
    {
     "data": {
      "text/plain": [
       "val sumList : int list -> int = <fun>\n"
      ]
     },
     "execution_count": 13,
     "metadata": {},
     "output_type": "execute_result"
    }
   ],
   "source": [
    "let rec sumList sumVal = \n",
    "    match sumVal with\n",
    "    | [] -> 0\n",
    "    | h :: t -> h + sumList t;;"
   ]
  },
  {
   "cell_type": "code",
   "execution_count": 14,
   "id": "d2a27feb",
   "metadata": {},
   "outputs": [
    {
     "data": {
      "text/plain": [
       "- : int = 10\n"
      ]
     },
     "execution_count": 14,
     "metadata": {},
     "output_type": "execute_result"
    }
   ],
   "source": [
    "sumList[1; 2; 3; 4];;"
   ]
  },
  {
   "cell_type": "markdown",
   "id": "1a90e019",
   "metadata": {},
   "source": [
    "**Inference**\n",
    "- The above recursive function takes one element out of the list at a time.\n",
    "- Then takes the sum of each element as popped by utilising the call stack and the recursive case of the function.\n",
    "- On hitting the base case it returns 0."
   ]
  },
  {
   "cell_type": "code",
   "execution_count": 15,
   "id": "e37b172e",
   "metadata": {},
   "outputs": [
    {
     "data": {
      "text/plain": [
       "sumList is now traced.\n"
      ]
     },
     "execution_count": 15,
     "metadata": {},
     "output_type": "execute_result"
    }
   ],
   "source": [
    "#trace sumList;;"
   ]
  },
  {
   "cell_type": "code",
   "execution_count": 16,
   "id": "aa2679ef",
   "metadata": {},
   "outputs": [
    {
     "data": {
      "text/plain": [
       "sumList <-- [1; 2; 3; 4]\n",
       "sumList <-- [2; 3; 4]\n",
       "sumList <-- [3; 4]\n",
       "sumList <-- [4]\n",
       "sumList <-- []\n",
       "sumList --> 0\n",
       "sumList --> 4\n",
       "sumList --> 7\n",
       "sumList --> 9\n",
       "sumList --> 10\n",
       "- : int = 10\n"
      ]
     },
     "execution_count": 16,
     "metadata": {},
     "output_type": "execute_result"
    }
   ],
   "source": [
    "sumList[1; 2; 3; 4];;"
   ]
  },
  {
   "cell_type": "code",
   "execution_count": 17,
   "id": "a1afb925",
   "metadata": {},
   "outputs": [
    {
     "data": {
      "text/plain": [
       "sumList is no longer traced.\n"
      ]
     },
     "execution_count": 17,
     "metadata": {},
     "output_type": "execute_result"
    }
   ],
   "source": [
    "#untrace sumList;;"
   ]
  },
  {
   "cell_type": "markdown",
   "id": "6a9b0ca3",
   "metadata": {},
   "source": [
    "**Calculating the Length of a List**"
   ]
  },
  {
   "cell_type": "code",
   "execution_count": 18,
   "id": "92072e44",
   "metadata": {},
   "outputs": [
    {
     "data": {
      "text/plain": [
       "val lenList : 'a list -> int = <fun>\n"
      ]
     },
     "execution_count": 18,
     "metadata": {},
     "output_type": "execute_result"
    }
   ],
   "source": [
    "let rec lenList lenVal = \n",
    "    match lenVal with\n",
    "    | [] -> 0\n",
    "    | h :: t -> 1 + lenList t;;"
   ]
  },
  {
   "cell_type": "markdown",
   "id": "16cd424f",
   "metadata": {},
   "source": [
    "**Inference**\n",
    "- The list is taken as a parameter using lenVal\n",
    "- For each call of the function until lenVal -> **`[]`** it add a 1 to the subsequent insertion of the function call in the function stack.\n",
    "- When the function reads **`[]`** it evaluates to 0.\n",
    "- Subsequently the function pops each function call from the stack to complete the calculation of length by increment lenVal with 1 for each call pop from the stack."
   ]
  },
  {
   "cell_type": "code",
   "execution_count": 19,
   "id": "16599187",
   "metadata": {},
   "outputs": [
    {
     "data": {
      "text/plain": [
       "lenList is now traced.\n"
      ]
     },
     "execution_count": 19,
     "metadata": {},
     "output_type": "execute_result"
    }
   ],
   "source": [
    "#trace lenList;;"
   ]
  },
  {
   "cell_type": "code",
   "execution_count": 20,
   "id": "2cf7f93b",
   "metadata": {},
   "outputs": [
    {
     "data": {
      "text/plain": [
       "lenList <--\n",
       "  [<poly>; <poly>; <poly>; <poly>; <poly>; <poly>; <poly>; <poly>; <poly>;\n",
       "   <poly>]\n",
       "lenList <--\n",
       "  [<poly>; <poly>; <poly>; <poly>; <poly>; <poly>; <poly>; <poly>; <poly>]\n",
       "lenList <-- [<poly>; <poly>; <poly>; <poly>; <poly>; <poly>; <poly>; <poly>]\n",
       "lenList <-- [<poly>; <poly>; <poly>; <poly>; <poly>; <poly>; <poly>]\n",
       "lenList <-- [<poly>; <poly>; <poly>; <poly>; <poly>; <poly>]\n",
       "lenList <-- [<poly>; <poly>; <poly>; <poly>; <poly>]\n",
       "lenList <-- [<poly>; <poly>; <poly>; <poly>]\n",
       "lenList <-- [<poly>; <poly>; <poly>]\n",
       "lenList <-- [<poly>; <poly>]\n",
       "lenList <-- [<poly>]\n",
       "lenList <-- []\n",
       "lenList --> 0\n",
       "lenList --> 1\n",
       "lenList --> 2\n",
       "lenList --> 3\n",
       "lenList --> 4\n",
       "lenList --> 5\n",
       "lenList --> 6\n",
       "lenList --> 7\n",
       "lenList --> 8\n",
       "lenList --> 9\n",
       "lenList --> 10\n",
       "- : int = 10\n"
      ]
     },
     "execution_count": 20,
     "metadata": {},
     "output_type": "execute_result"
    }
   ],
   "source": [
    "lenList[1; 2; 3; 4; 5; 6; 7; 8; 9; 0];;"
   ]
  },
  {
   "cell_type": "code",
   "execution_count": 21,
   "id": "3d8262a6",
   "metadata": {},
   "outputs": [
    {
     "data": {
      "text/plain": [
       "lenList is no longer traced.\n"
      ]
     },
     "execution_count": 21,
     "metadata": {},
     "output_type": "execute_result"
    }
   ],
   "source": [
    "#untrace lenList;;"
   ]
  },
  {
   "cell_type": "markdown",
   "id": "0e47af40",
   "metadata": {},
   "source": [
    "**Appending two lists together**"
   ]
  },
  {
   "cell_type": "code",
   "execution_count": 22,
   "id": "40176267",
   "metadata": {},
   "outputs": [
    {
     "data": {
      "text/plain": [
       "val appendList : 'a list -> 'a list -> 'a list = <fun>\n"
      ]
     },
     "execution_count": 22,
     "metadata": {},
     "output_type": "execute_result"
    }
   ],
   "source": [
    "let rec appendList lst1 lst2 = \n",
    "    match lst1 with\n",
    "    | [] -> lst2\n",
    "    | h :: t -> h :: (appendList t lst2);;"
   ]
  },
  {
   "cell_type": "code",
   "execution_count": 23,
   "id": "77de4d88",
   "metadata": {},
   "outputs": [
    {
     "data": {
      "text/plain": [
       "appendList is now traced.\n"
      ]
     },
     "execution_count": 23,
     "metadata": {},
     "output_type": "execute_result"
    }
   ],
   "source": [
    "#trace appendList"
   ]
  },
  {
   "cell_type": "code",
   "execution_count": 24,
   "id": "39a7681d",
   "metadata": {},
   "outputs": [
    {
     "data": {
      "text/plain": [
       "appendList <-- [<poly>; <poly>; <poly>]\n",
       "appendList --> <fun>\n",
       "appendList* <-- [<poly>; <poly>; <poly>]\n",
       "appendList <-- [<poly>; <poly>]\n",
       "appendList --> <fun>\n",
       "appendList* <-- [<poly>; <poly>; <poly>]\n",
       "appendList <-- [<poly>]\n",
       "appendList --> <fun>\n",
       "appendList* <-- [<poly>; <poly>; <poly>]\n",
       "appendList <-- []\n",
       "appendList --> <fun>\n",
       "appendList* <-- [<poly>; <poly>; <poly>]\n",
       "appendList* --> [<poly>; <poly>; <poly>]\n",
       "appendList* --> [<poly>; <poly>; <poly>; <poly>]\n",
       "appendList* --> [<poly>; <poly>; <poly>; <poly>; <poly>]\n",
       "appendList* --> [<poly>; <poly>; <poly>; <poly>; <poly>; <poly>]\n",
       "- : int list = [1; 2; 3; 4; 5; 6]\n"
      ]
     },
     "execution_count": 24,
     "metadata": {},
     "output_type": "execute_result"
    }
   ],
   "source": [
    "appendList [1; 2; 3] [4; 5; 6];;"
   ]
  },
  {
   "cell_type": "markdown",
   "id": "08529cab",
   "metadata": {},
   "source": [
    "## Overloading the Function Keyword\n",
    "\n",
    "- The Function keyword can also be overloaded to work with match statement when the last elements of the match statement is the element beung used for pattern matching.\n"
   ]
  },
  {
   "cell_type": "code",
   "execution_count": 26,
   "id": "d0a5b721",
   "metadata": {},
   "outputs": [
    {
     "data": {
      "text/plain": [
       "val sumList : int list -> int = <fun>\n"
      ]
     },
     "execution_count": 26,
     "metadata": {},
     "output_type": "execute_result"
    }
   ],
   "source": [
    "let rec sumList = function\n",
    "    | [] -> 0\n",
    "    | h :: t -> h + sumList t;;"
   ]
  },
  {
   "cell_type": "markdown",
   "id": "057c3365",
   "metadata": {},
   "source": [
    "**Inference**\n",
    "- Thus here the function keyword assumes a pattern match expression automatically and matches it agains the cases in the pattern match statement"
   ]
  },
  {
   "cell_type": "code",
   "execution_count": 28,
   "id": "1e2e0ab5",
   "metadata": {},
   "outputs": [
    {
     "data": {
      "text/plain": [
       "sumList is now traced.\n"
      ]
     },
     "execution_count": 28,
     "metadata": {},
     "output_type": "execute_result"
    }
   ],
   "source": [
    "#trace sumList;;"
   ]
  },
  {
   "cell_type": "code",
   "execution_count": 29,
   "id": "53b35313",
   "metadata": {},
   "outputs": [
    {
     "data": {
      "text/plain": [
       "sumList <-- [1; 2; 3; 4; 5]\n",
       "sumList <-- [2; 3; 4; 5]\n",
       "sumList <-- [3; 4; 5]\n",
       "sumList <-- [4; 5]\n",
       "sumList <-- [5]\n",
       "sumList <-- []\n",
       "sumList --> 0\n",
       "sumList --> 5\n",
       "sumList --> 9\n",
       "sumList --> 12\n",
       "sumList --> 14\n",
       "sumList --> 15\n",
       "- : int = 15\n"
      ]
     },
     "execution_count": 29,
     "metadata": {},
     "output_type": "execute_result"
    }
   ],
   "source": [
    "sumList [1; 2; 3; 4; 5];;"
   ]
  },
  {
   "cell_type": "code",
   "execution_count": 30,
   "id": "8bf457e7",
   "metadata": {},
   "outputs": [
    {
     "data": {
      "text/plain": [
       "sumList is no longer traced.\n"
      ]
     },
     "execution_count": 30,
     "metadata": {},
     "output_type": "execute_result"
    }
   ],
   "source": [
    "#untrace sumList"
   ]
  },
  {
   "cell_type": "code",
   "execution_count": null,
   "id": "d0741fa1",
   "metadata": {},
   "outputs": [],
   "source": []
  }
 ],
 "metadata": {
  "kernelspec": {
   "display_name": "OCaml 4.13",
   "language": "OCaml",
   "name": "ocaml-jupyter-4.13"
  },
  "language_info": {
   "codemirror_mode": "text/x-ocaml",
   "file_extension": ".ml",
   "mimetype": "text/x-ocaml",
   "name": "OCaml",
   "nbconverter_exporter": null,
   "pygments_lexer": "OCaml",
   "version": "4.13.1"
  }
 },
 "nbformat": 4,
 "nbformat_minor": 5
}
