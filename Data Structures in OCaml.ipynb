{
 "cells": [
  {
   "cell_type": "markdown",
   "id": "29538216",
   "metadata": {},
   "source": [
    "## Lists in OCaml"
   ]
  },
  {
   "cell_type": "code",
   "execution_count": 1,
   "id": "cf75e805",
   "metadata": {},
   "outputs": [
    {
     "data": {
      "text/plain": [
       "- : 'a list = []\n"
      ]
     },
     "execution_count": 1,
     "metadata": {},
     "output_type": "execute_result"
    }
   ],
   "source": [
    "(* Empty List *)\n",
    "[];;"
   ]
  },
  {
   "cell_type": "markdown",
   "id": "5e8062ee",
   "metadata": {},
   "source": [
    "**Inference**\n",
    "- Here 'a is the default datatype for the empty list as there is no value populating the list.\n",
    "- Thus the datatype is `none` currently hence the list is 'a as undefined."
   ]
  },
  {
   "cell_type": "code",
   "execution_count": 2,
   "id": "be5d2452",
   "metadata": {},
   "outputs": [
    {
     "data": {
      "text/plain": [
       "- : int list = [1; 2; 3; 4]\n"
      ]
     },
     "execution_count": 2,
     "metadata": {},
     "output_type": "execute_result"
    }
   ],
   "source": [
    "[1; 2; 3; 4];;"
   ]
  },
  {
   "cell_type": "code",
   "execution_count": 4,
   "id": "5c1d4245",
   "metadata": {},
   "outputs": [
    {
     "data": {
      "text/plain": [
       "- : float list = [1.; 2.; 3.; 4.]\n"
      ]
     },
     "execution_count": 4,
     "metadata": {},
     "output_type": "execute_result"
    }
   ],
   "source": [
    "[1.; 2.; 3.; 4.];;"
   ]
  },
  {
   "cell_type": "code",
   "execution_count": 5,
   "id": "a35a6608",
   "metadata": {},
   "outputs": [
    {
     "data": {
      "text/plain": [
       "- : bool list = [true; false; true]\n"
      ]
     },
     "execution_count": 5,
     "metadata": {},
     "output_type": "execute_result"
    }
   ],
   "source": [
    "[true; false; true];;"
   ]
  },
  {
   "cell_type": "markdown",
   "id": "d685192d",
   "metadata": {},
   "source": [
    "**Important**\n",
    "- Lists in OCaml are homogeneous in nature, they accept all elements of only one type."
   ]
  },
  {
   "cell_type": "markdown",
   "id": "c940ca87",
   "metadata": {},
   "source": [
    "## 2D Lists"
   ]
  },
  {
   "cell_type": "code",
   "execution_count": 6,
   "id": "34057c84",
   "metadata": {},
   "outputs": [
    {
     "data": {
      "text/plain": [
       "- : int list list = [[1; 2]; [3; 4]; [5; 6]]\n"
      ]
     },
     "execution_count": 6,
     "metadata": {},
     "output_type": "execute_result"
    }
   ],
   "source": [
    "[[1; 2]; [3; 4]; [5; 6]];;"
   ]
  },
  {
   "cell_type": "markdown",
   "id": "044f1501",
   "metadata": {},
   "source": [
    "**Inference**\n",
    "- The list is prominently of datatype integer.\n",
    "- The it contains two levels of lists which contain data of type integer."
   ]
  },
  {
   "cell_type": "markdown",
   "id": "7bdcd11c",
   "metadata": {},
   "source": [
    "**Appending Elements into a list the hard way**\n",
    "--"
   ]
  },
  {
   "cell_type": "code",
   "execution_count": 7,
   "id": "61f6a6b3",
   "metadata": {},
   "outputs": [
    {
     "data": {
      "text/plain": [
       "- : int list = [1; 2; 3]\n"
      ]
     },
     "execution_count": 7,
     "metadata": {},
     "output_type": "execute_result"
    }
   ],
   "source": [
    "1 :: [2; 3];;"
   ]
  },
  {
   "cell_type": "code",
   "execution_count": 8,
   "id": "3f7e5572",
   "metadata": {},
   "outputs": [
    {
     "data": {
      "text/plain": [
       "- : int list = [1; 2; 3]\n"
      ]
     },
     "execution_count": 8,
     "metadata": {},
     "output_type": "execute_result"
    }
   ],
   "source": [
    "1 :: 2 :: 3 :: [];;"
   ]
  },
  {
   "cell_type": "code",
   "execution_count": 10,
   "id": "c7b5ff0b",
   "metadata": {},
   "outputs": [
    {
     "data": {
      "text/plain": [
       "- : int list list = [[1; 2]; [3; 6]; [4; 5]]\n"
      ]
     },
     "execution_count": 10,
     "metadata": {},
     "output_type": "execute_result"
    }
   ],
   "source": [
    "[1; 2] :: [3; 6] :: [4; 5] :: [];;"
   ]
  },
  {
   "cell_type": "markdown",
   "id": "cfb7d2d2",
   "metadata": {},
   "source": [
    "**Important**\n",
    "- When appending elements into the list also OCaml wants to keep similarity in the elements being appended.\n",
    "- Thus all the elements being appended into an existing list must match the elements occupying indexes in the list.\n",
    "- When adding elements to an empty list all the elements must be of the same type tooo."
   ]
  },
  {
   "cell_type": "code",
   "execution_count": 14,
   "id": "9aec6128",
   "metadata": {},
   "outputs": [
    {
     "ename": "error",
     "evalue": "compile_error",
     "output_type": "error",
     "traceback": [
      "File \"[14]\", line 2, characters 6-12:\n2 | 1 :: [[2; 3]];;\n          ^^^^^^\nError: This expression has type 'a list\n       but an expression was expected of type int\n"
     ]
    }
   ],
   "source": [
    "(* Error *)\n",
    "1 :: [[2; 3]];;"
   ]
  },
  {
   "cell_type": "code",
   "execution_count": 15,
   "id": "95b08553",
   "metadata": {},
   "outputs": [
    {
     "ename": "error",
     "evalue": "compile_error",
     "output_type": "error",
     "traceback": [
      "File \"[15]\", line 2, characters 10-11:\n2 | [2; 3] :: 1 :: [];;\n              ^\nError: This expression has type int but an expression was expected of type\n         int list\n"
     ]
    }
   ],
   "source": [
    "(* Error *)\n",
    "[2; 3] :: 1 :: [];;"
   ]
  },
  {
   "cell_type": "markdown",
   "id": "d03798e9",
   "metadata": {},
   "source": [
    "**Important**\n",
    "- OCaml lists are **`Immutable`** like the **`Expression`**.\n",
    "- Thus to make modifications to an existing list a new list is created.\n",
    "- OCaml lists are `Singly Linked Lists`."
   ]
  },
  {
   "cell_type": "markdown",
   "id": "b2a5a567",
   "metadata": {},
   "source": [
    "## Records and Tuples in OCaml"
   ]
  },
  {
   "cell_type": "markdown",
   "id": "52b1402e",
   "metadata": {},
   "source": [
    "**Records**\n",
    "--\n",
    "- They have the syntax of C - Structs.\n",
    "- They are similar to custom datastructures provided by C. \n",
    "- Thus they can take properites of multiple datatype while creating an object of the datatype."
   ]
  },
  {
   "cell_type": "code",
   "execution_count": 20,
   "id": "cda7bdd4",
   "metadata": {},
   "outputs": [
    {
     "data": {
      "text/plain": [
       "type car = { company : string; model : string; power : int; }\n"
      ]
     },
     "execution_count": 20,
     "metadata": {},
     "output_type": "execute_result"
    }
   ],
   "source": [
    "type car = {\n",
    "    company : string;\n",
    "    model : string;\n",
    "    power : int;\n",
    "}"
   ]
  },
  {
   "cell_type": "markdown",
   "id": "81efd8d2",
   "metadata": {},
   "source": [
    "**Important**\n",
    "- Records dont like to take the names of their properties in **`Captials`**"
   ]
  },
  {
   "cell_type": "code",
   "execution_count": 22,
   "id": "b2e3e22b",
   "metadata": {},
   "outputs": [
    {
     "data": {
      "text/plain": [
       "val p911 : car = {company = \"Porsche\"; model = \"911\"; power = 730}\n"
      ]
     },
     "execution_count": 22,
     "metadata": {},
     "output_type": "execute_result"
    }
   ],
   "source": [
    "(* Objects of the Custom Datatype created using records *)\n",
    "let p911 = {\n",
    "    company = \"Porsche\";\n",
    "    model = \"911\";\n",
    "    power = 730;\n",
    "}"
   ]
  },
  {
   "cell_type": "markdown",
   "id": "76a5f0a9",
   "metadata": {},
   "source": [
    "**Accessing the Attributes of the Datatype defined using Records**\n",
    "\n",
    "- This can be done using the . operator like in all the other languages follwed by the property name."
   ]
  },
  {
   "cell_type": "code",
   "execution_count": 24,
   "id": "8c6cbbd6",
   "metadata": {},
   "outputs": [
    {
     "data": {
      "text/plain": [
       "- : string = \"Porsche\"\n"
      ]
     },
     "execution_count": 24,
     "metadata": {},
     "output_type": "execute_result"
    }
   ],
   "source": [
    "p911.company;;"
   ]
  },
  {
   "cell_type": "code",
   "execution_count": 25,
   "id": "eaab7e4d",
   "metadata": {},
   "outputs": [
    {
     "data": {
      "text/plain": [
       "- : string = \"911\"\n"
      ]
     },
     "execution_count": 25,
     "metadata": {},
     "output_type": "execute_result"
    }
   ],
   "source": [
    "p911.model;;"
   ]
  },
  {
   "cell_type": "markdown",
   "id": "00044f91",
   "metadata": {},
   "source": [
    "**Making a Copy of a Record**\n",
    "- Original Record remains unchanged while altering the scope levels while creating a new record to hold the modified values."
   ]
  },
  {
   "cell_type": "code",
   "execution_count": 31,
   "id": "669ff2b9",
   "metadata": {},
   "outputs": [
    {
     "data": {
      "text/plain": [
       "val taycan : car = {company = \"Porsche\"; model = \"Taycan\"; power = 500}\n"
      ]
     },
     "execution_count": 31,
     "metadata": {},
     "output_type": "execute_result"
    }
   ],
   "source": [
    "let taycan = {\n",
    "    company = \"Porsche\";\n",
    "    model = \"Taycan\";\n",
    "    power = 500;\n",
    "}"
   ]
  },
  {
   "cell_type": "code",
   "execution_count": 34,
   "id": "8b90b317",
   "metadata": {},
   "outputs": [
    {
     "data": {
      "text/plain": [
       "- : car = {company = \"Porsche\"; model = \"Macan\"; power = 500}\n"
      ]
     },
     "execution_count": 34,
     "metadata": {},
     "output_type": "execute_result"
    }
   ],
   "source": [
    "(* Copy of the above record *)\n",
    "{taycan with model = \"Macan\"};;"
   ]
  },
  {
   "cell_type": "code",
   "execution_count": 33,
   "id": "a3755abe",
   "metadata": {},
   "outputs": [
    {
     "data": {
      "text/plain": [
       "- : car = {company = \"Porsche\"; model = \"Taycan\"; power = 500}\n"
      ]
     },
     "execution_count": 33,
     "metadata": {},
     "output_type": "execute_result"
    }
   ],
   "source": [
    "(* Original Remains Unchanged *)\n",
    "taycan;;"
   ]
  },
  {
   "cell_type": "code",
   "execution_count": 26,
   "id": "89085818",
   "metadata": {},
   "outputs": [
    {
     "data": {
      "text/plain": [
       "- : string = \"Off Topic\"\n"
      ]
     },
     "execution_count": 26,
     "metadata": {},
     "output_type": "execute_result"
    },
    {
     "data": {
      "text/plain": [
       "- : string = \"I will own one of you someday!!!\"\n"
      ]
     },
     "execution_count": 26,
     "metadata": {},
     "output_type": "execute_result"
    },
    {
     "data": {
      "text/plain": [
       "- : string = \"Dont catch feelings, catch flights and drive cars and bikes\"\n"
      ]
     },
     "execution_count": 26,
     "metadata": {},
     "output_type": "execute_result"
    }
   ],
   "source": [
    "\"Off Topic\";;\n",
    "\"I will own one of you someday!!!\";;\n",
    "\"Dont catch feelings, catch flights and drive cars and bikes\";;"
   ]
  },
  {
   "cell_type": "markdown",
   "id": "6f5d3a30",
   "metadata": {},
   "source": [
    "**Tuples**\n",
    "--\n",
    "\n",
    "- Tuples are similar to Records which can be used to define custom datastructures.\n",
    "- Tuples unlike records do not need a blue print to declare their types."
   ]
  },
  {
   "cell_type": "code",
   "execution_count": 27,
   "id": "a93ed266",
   "metadata": {},
   "outputs": [
    {
     "data": {
      "text/plain": [
       "- : int * int * string = (730, 8, \"911 GT3RS\")\n"
      ]
     },
     "execution_count": 27,
     "metadata": {},
     "output_type": "execute_result"
    }
   ],
   "source": [
    "(730, 8, \"911 GT3RS\");;"
   ]
  },
  {
   "cell_type": "markdown",
   "id": "d5071861",
   "metadata": {},
   "source": [
    "**Important**\n",
    "- We can see that the above tuple did use a custom datatype which has been defined in the above output from OCaml.\n",
    "- **`int * int * string`**"
   ]
  },
  {
   "cell_type": "code",
   "execution_count": 28,
   "id": "d0584461",
   "metadata": {},
   "outputs": [
    {
     "data": {
      "text/plain": [
       "type carSpec = int * int * string\n"
      ]
     },
     "execution_count": 28,
     "metadata": {},
     "output_type": "execute_result"
    },
    {
     "data": {
      "text/plain": [
       "val p911 : int * int * string = (730, 8, \"911 GT3RS\")\n"
      ]
     },
     "execution_count": 28,
     "metadata": {},
     "output_type": "execute_result"
    }
   ],
   "source": [
    "type carSpec = int * int * string;;\n",
    "let p911 = (730, 8, \"911 GT3RS\");;"
   ]
  },
  {
   "cell_type": "code",
   "execution_count": 29,
   "id": "26d402b0",
   "metadata": {},
   "outputs": [
    {
     "data": {
      "text/plain": [
       "- : int * int * string = (730, 8, \"911 GT3RS\")\n"
      ]
     },
     "execution_count": 29,
     "metadata": {},
     "output_type": "execute_result"
    }
   ],
   "source": [
    "p911;;"
   ]
  },
  {
   "cell_type": "markdown",
   "id": "f7061505",
   "metadata": {},
   "source": [
    "**Important**\n",
    "- In tuples the order of elements matters the most.\n",
    "- Accessing any element in a tuple is done using the location of the element in the tuple."
   ]
  },
  {
   "cell_type": "code",
   "execution_count": null,
   "id": "06823c42",
   "metadata": {},
   "outputs": [],
   "source": []
  }
 ],
 "metadata": {
  "kernelspec": {
   "display_name": "OCaml 4.13",
   "language": "OCaml",
   "name": "ocaml-jupyter-4.13"
  },
  "language_info": {
   "codemirror_mode": "text/x-ocaml",
   "file_extension": ".ml",
   "mimetype": "text/x-ocaml",
   "name": "OCaml",
   "nbconverter_exporter": null,
   "pygments_lexer": "OCaml",
   "version": "4.13.1"
  }
 },
 "nbformat": 4,
 "nbformat_minor": 5
}
