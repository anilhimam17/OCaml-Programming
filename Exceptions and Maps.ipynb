{
 "cells": [
  {
   "cell_type": "markdown",
   "id": "4b367889",
   "metadata": {},
   "source": [
    "## Creating Exceptions in OCaml"
   ]
  },
  {
   "cell_type": "code",
   "execution_count": 2,
   "id": "f3852bbb",
   "metadata": {},
   "outputs": [
    {
     "data": {
      "text/plain": [
       "exception OCam of string\n"
      ]
     },
     "execution_count": 2,
     "metadata": {},
     "output_type": "execute_result"
    }
   ],
   "source": [
    "exception OCam of string;;"
   ]
  },
  {
   "cell_type": "code",
   "execution_count": 3,
   "id": "bfade83c",
   "metadata": {},
   "outputs": [
    {
     "data": {
      "text/plain": [
       "- : exn = OCam \"OCaml is shit!!!\"\n"
      ]
     },
     "execution_count": 3,
     "metadata": {},
     "output_type": "execute_result"
    }
   ],
   "source": [
    "OCam \"OCaml is shit!!!\";"
   ]
  },
  {
   "cell_type": "markdown",
   "id": "e4dd92d7",
   "metadata": {},
   "source": [
    "**Raising Exceptions in OCaml**"
   ]
  },
  {
   "cell_type": "code",
   "execution_count": 6,
   "id": "1a417400",
   "metadata": {},
   "outputs": [
    {
     "ename": "error",
     "evalue": "runtime_error",
     "output_type": "error",
     "traceback": [
      "\u001b[31mException: OCam \"OCaml is Shit!!\".\nCalled from Stdlib__Fun.protect in file \"fun.ml\", line 33, characters 8-15\nRe-raised at Stdlib__Fun.protect in file \"fun.ml\", line 38, characters 6-52\nCalled from Topeval.load_lambda in file \"toplevel/byte/topeval.ml\", line 89, characters 4-150\n\u001b[0m"
     ]
    }
   ],
   "source": [
    "raise (OCam \"OCaml is Shit!!\");;"
   ]
  },
  {
   "cell_type": "markdown",
   "id": "07102cb4",
   "metadata": {},
   "source": [
    "**Another Example**"
   ]
  },
  {
   "cell_type": "code",
   "execution_count": 7,
   "id": "a776beeb",
   "metadata": {},
   "outputs": [
    {
     "data": {
      "text/plain": [
       "exception AnyError\n"
      ]
     },
     "execution_count": 7,
     "metadata": {},
     "output_type": "execute_result"
    }
   ],
   "source": [
    "exception AnyError;;"
   ]
  },
  {
   "cell_type": "code",
   "execution_count": 8,
   "id": "2c69a737",
   "metadata": {},
   "outputs": [
    {
     "ename": "error",
     "evalue": "runtime_error",
     "output_type": "error",
     "traceback": [
      "\u001b[31mException: AnyError.\nCalled from Stdlib__Fun.protect in file \"fun.ml\", line 33, characters 8-15\nRe-raised at Stdlib__Fun.protect in file \"fun.ml\", line 38, characters 6-52\nCalled from Topeval.load_lambda in file \"toplevel/byte/topeval.ml\", line 89, characters 4-150\n\u001b[0m"
     ]
    }
   ],
   "source": [
    "raise AnyError;;"
   ]
  },
  {
   "cell_type": "markdown",
   "id": "f001f1b0",
   "metadata": {},
   "source": [
    "## Maps in OCaml"
   ]
  },
  {
   "cell_type": "code",
   "execution_count": null,
   "id": "cd0e7000",
   "metadata": {},
   "outputs": [],
   "source": []
  }
 ],
 "metadata": {
  "kernelspec": {
   "display_name": "OCaml 4.13",
   "language": "OCaml",
   "name": "ocaml-jupyter-4.13"
  },
  "language_info": {
   "codemirror_mode": "text/x-ocaml",
   "file_extension": ".ml",
   "mimetype": "text/x-ocaml",
   "name": "OCaml",
   "nbconverter_exporter": null,
   "pygments_lexer": "OCaml",
   "version": "4.13.1"
  }
 },
 "nbformat": 4,
 "nbformat_minor": 5
}
